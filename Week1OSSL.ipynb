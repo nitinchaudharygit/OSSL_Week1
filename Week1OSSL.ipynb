{
 "cells": [
  {
   "cell_type": "code",
   "execution_count": 1,
   "id": "cf689d4e",
   "metadata": {},
   "outputs": [
    {
     "name": "stdout",
     "output_type": "stream",
     "text": [
      "my name is nitin chaudhary\n"
     ]
    }
   ],
   "source": [
    "print(\"my name is nitin chaudhary\")"
   ]
  },
  {
   "cell_type": "code",
   "execution_count": 10,
   "id": "1b60a263",
   "metadata": {},
   "outputs": [
    {
     "name": "stdout",
     "output_type": "stream",
     "text": [
      "Advertisement\n",
      "Explore by section\n",
      "Explore by subject\n",
      "Explore our products and services\n",
      "News\n",
      "Free\n",
      "Video\n",
      "Free\n",
      "News\n",
      "Free\n",
      "News\n",
      "Subscriber-only\n",
      "News\n",
      "Free\n",
      "News\n",
      "Free\n",
      "Leader\n",
      "Subscriber-only\n",
      "Comment\n",
      "Subscriber-only\n",
      "News\n",
      "Subscriber-only\n",
      "Advertisement\n",
      "News\n",
      "Free\n",
      "Features\n",
      "Subscriber-only\n",
      "Features\n",
      "Subscriber-only\n",
      "Features\n",
      "Subscriber-only\n",
      "Features\n",
      "Subscriber-only\n",
      "Download the app\n",
      "Empty DataFrame\n",
      "Columns: [['Advertisement',  'Explore by section',  'Explore by subject',  'Explore our products and services',  'News',  'Free',  'Video',  'Free'.1,  'News'.1,  'Free'.2,  'News'.2,  'Subscriber-only',  'News'.3,  'Free'.3,  'News'.4,  'Free'.4,  'Leader',  'Subscriber-only'.1,  'Comment',  'Subscriber-only'.2,  'News'.5,  'Subscriber-only'.3,  'Advertisement',  'News'.6,  'Free'.5,  'Features',  'Subscriber-only'.4,  'Features'.1,  'Subscriber-only'.5,  'Features'.2,  'Subscriber-only'.6,  'Features'.3,  'Subscriber-only'.7,  'Download the app']['Advertisement',  'Explore by section'.1,  'Explore by subject'.1,  'Explore our products and services'.1,  'News'.7,  'Free'.6,  'Video'.1,  'Free'.7,  'News'.8,  'Free'.8,  'News'.9,  'Subscriber-only'.8,  'News'.10,  'Free'.9,  'News'.11,  'Free'.10,  'Leader'.1,  'Subscriber-only'.9,  'Comment'.1,  'Subscriber-only'.10,  'News'.12,  'Subscriber-only'.11,  'Advertisement'.1,  'News'.13,  'Free'.11,  'Features'.4,  'Subscriber-only'.12,  'Features'.5,  'Subscriber-only'.13,  'Features'.6,  'Subscriber-only'.14,  'Features'.7,  'Subscriber-only'.15,  'Download the app']]\n",
      "Index: []\n",
      "\n",
      "[0 rows x 67 columns]\n"
     ]
    }
   ],
   "source": [
    "import pandas as pd\n",
    "import requests\n",
    "from bs4 import BeautifulSoup\n",
    "url='https://www.newscientist.com/subject/technology/'\n",
    "r=requests.get(url)\n",
    "soup = BeautifulSoup(r.text, 'html.parser')\n",
    "temp=soup.find_all('p')\n",
    "datalist=[]\n",
    "for tag  in temp:\n",
    "    print(tag.text)\n",
    "    datalist.append(tag.text)\n",
    "path = r'C:\\Users\\9921103163\\Week1OSSL\\ptagdata.txt'\n",
    "with open(path,'a') as f:\n",
    "    f.write(str(datalist))\n",
    "# print(r.content)\n",
    "mydata=pd.read_csv(r'C:\\Users\\9921103163\\Week1OSSL\\ptagdata.txt')\n",
    "print(mydata)"
   ]
  },
  {
   "cell_type": "code",
   "execution_count": null,
   "id": "e780656a",
   "metadata": {},
   "outputs": [],
   "source": []
  }
 ],
 "metadata": {
  "kernelspec": {
   "display_name": "Python 3 (ipykernel)",
   "language": "python",
   "name": "python3"
  },
  "language_info": {
   "codemirror_mode": {
    "name": "ipython",
    "version": 3
   },
   "file_extension": ".py",
   "mimetype": "text/x-python",
   "name": "python",
   "nbconvert_exporter": "python",
   "pygments_lexer": "ipython3",
   "version": "3.9.12"
  }
 },
 "nbformat": 4,
 "nbformat_minor": 5
}
