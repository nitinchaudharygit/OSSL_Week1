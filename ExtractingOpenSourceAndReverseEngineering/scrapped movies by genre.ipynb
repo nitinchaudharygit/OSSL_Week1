{
 "cells": [
  {
   "cell_type": "markdown",
   "id": "28b7b8f6",
   "metadata": {},
   "source": [
    "# Scrape movie information from IMDB using python and Beautiful Soup."
   ]
  },
  {
   "cell_type": "markdown",
   "id": "a6807fb9",
   "metadata": {},
   "source": []
  },
  {
   "cell_type": "markdown",
   "id": "942183e3",
   "metadata": {},
   "source": [
    "#### Import the necessary modules"
   ]
  },
  {
   "cell_type": "code",
   "execution_count": 1,
   "id": "d18c6627",
   "metadata": {},
   "outputs": [],
   "source": [
    "import requests\n",
    "from bs4 import BeautifulSoup\n",
    "import pandas as pd\n",
    "\n",
    "HEADERS ={\"User-Agent\":\"Mozilla/5.0 (Windows NT 10.0; Win64; x64; rv:66.0) Gecko/20100101 Firefox/66.0\", \"Accept-Encoding\":\"gzip, deflate\", \"Accept\":\"text/html,application/xhtml+xml,application/xml;q=0.9,*/*;q=0.8\", \"DNT\":\"1\",\"Connection\":\"close\", \"Upgrade-Insecure-Requests\":\"1\"}"
   ]
  },
  {
   "cell_type": "markdown",
   "id": "76e71d1d",
   "metadata": {},
   "source": [
    "#### Obtaining URLs from various genres."
   ]
  },
  {
   "cell_type": "code",
   "execution_count": 2,
   "id": "d5cab572",
   "metadata": {},
   "outputs": [
    {
     "name": "stdout",
     "output_type": "stream",
     "text": [
      "{'Adventure': 'https://www.imdb.com/search/title/?genres=Adventure&sort=user_rating,desc&title_type=feature&num_votes=25000,&pf_rd_m=A2FGELUUNOQJNL&pf_rd_p=5aab685f-35eb-40f3-95f7-c53f09d542c3&pf_rd_r=N97GEQS6R7J9EV7V770D&pf_rd_s=right-6&pf_rd_t=15506&pf_rd_i=top&ref_=chttp_gnr_16', 'Animation': 'https://www.imdb.com/search/title/?genres=Animation&sort=user_rating,desc&title_type=feature&num_votes=25000,&pf_rd_m=A2FGELUUNOQJNL&pf_rd_p=5aab685f-35eb-40f3-95f7-c53f09d542c3&pf_rd_r=N97GEQS6R7J9EV7V770D&pf_rd_s=right-6&pf_rd_t=15506&pf_rd_i=top&ref_=chttp_gnr_16', 'Biography': 'https://www.imdb.com/search/title/?genres=Biography&sort=user_rating,desc&title_type=feature&num_votes=25000,&pf_rd_m=A2FGELUUNOQJNL&pf_rd_p=5aab685f-35eb-40f3-95f7-c53f09d542c3&pf_rd_r=N97GEQS6R7J9EV7V770D&pf_rd_s=right-6&pf_rd_t=15506&pf_rd_i=top&ref_=chttp_gnr_16', 'Comedy': 'https://www.imdb.com/search/title/?genres=Comedy&sort=user_rating,desc&title_type=feature&num_votes=25000,&pf_rd_m=A2FGELUUNOQJNL&pf_rd_p=5aab685f-35eb-40f3-95f7-c53f09d542c3&pf_rd_r=N97GEQS6R7J9EV7V770D&pf_rd_s=right-6&pf_rd_t=15506&pf_rd_i=top&ref_=chttp_gnr_16', 'Crime': 'https://www.imdb.com/search/title/?genres=Crime&sort=user_rating,desc&title_type=feature&num_votes=25000,&pf_rd_m=A2FGELUUNOQJNL&pf_rd_p=5aab685f-35eb-40f3-95f7-c53f09d542c3&pf_rd_r=N97GEQS6R7J9EV7V770D&pf_rd_s=right-6&pf_rd_t=15506&pf_rd_i=top&ref_=chttp_gnr_16', 'Drama': 'https://www.imdb.com/search/title/?genres=Drama&sort=user_rating,desc&title_type=feature&num_votes=25000,&pf_rd_m=A2FGELUUNOQJNL&pf_rd_p=5aab685f-35eb-40f3-95f7-c53f09d542c3&pf_rd_r=N97GEQS6R7J9EV7V770D&pf_rd_s=right-6&pf_rd_t=15506&pf_rd_i=top&ref_=chttp_gnr_16', 'Family': 'https://www.imdb.com/search/title/?genres=Family&sort=user_rating,desc&title_type=feature&num_votes=25000,&pf_rd_m=A2FGELUUNOQJNL&pf_rd_p=5aab685f-35eb-40f3-95f7-c53f09d542c3&pf_rd_r=N97GEQS6R7J9EV7V770D&pf_rd_s=right-6&pf_rd_t=15506&pf_rd_i=top&ref_=chttp_gnr_16', 'Fantasy': 'https://www.imdb.com/search/title/?genres=Fantasy&sort=user_rating,desc&title_type=feature&num_votes=25000,&pf_rd_m=A2FGELUUNOQJNL&pf_rd_p=5aab685f-35eb-40f3-95f7-c53f09d542c3&pf_rd_r=N97GEQS6R7J9EV7V770D&pf_rd_s=right-6&pf_rd_t=15506&pf_rd_i=top&ref_=chttp_gnr_16', 'Film-Noir': 'https://www.imdb.com/search/title/?genres=Film-Noir&sort=user_rating,desc&title_type=feature&num_votes=25000,&pf_rd_m=A2FGELUUNOQJNL&pf_rd_p=5aab685f-35eb-40f3-95f7-c53f09d542c3&pf_rd_r=N97GEQS6R7J9EV7V770D&pf_rd_s=right-6&pf_rd_t=15506&pf_rd_i=top&ref_=chttp_gnr_16', 'History': 'https://www.imdb.com/search/title/?genres=History&sort=user_rating,desc&title_type=feature&num_votes=25000,&pf_rd_m=A2FGELUUNOQJNL&pf_rd_p=5aab685f-35eb-40f3-95f7-c53f09d542c3&pf_rd_r=N97GEQS6R7J9EV7V770D&pf_rd_s=right-6&pf_rd_t=15506&pf_rd_i=top&ref_=chttp_gnr_16', 'Horror': 'https://www.imdb.com/search/title/?genres=Horror&sort=user_rating,desc&title_type=feature&num_votes=25000,&pf_rd_m=A2FGELUUNOQJNL&pf_rd_p=5aab685f-35eb-40f3-95f7-c53f09d542c3&pf_rd_r=N97GEQS6R7J9EV7V770D&pf_rd_s=right-6&pf_rd_t=15506&pf_rd_i=top&ref_=chttp_gnr_16', 'Music': 'https://www.imdb.com/search/title/?genres=Music&sort=user_rating,desc&title_type=feature&num_votes=25000,&pf_rd_m=A2FGELUUNOQJNL&pf_rd_p=5aab685f-35eb-40f3-95f7-c53f09d542c3&pf_rd_r=N97GEQS6R7J9EV7V770D&pf_rd_s=right-6&pf_rd_t=15506&pf_rd_i=top&ref_=chttp_gnr_16', 'Musical': 'https://www.imdb.com/search/title/?genres=Musical&sort=user_rating,desc&title_type=feature&num_votes=25000,&pf_rd_m=A2FGELUUNOQJNL&pf_rd_p=5aab685f-35eb-40f3-95f7-c53f09d542c3&pf_rd_r=N97GEQS6R7J9EV7V770D&pf_rd_s=right-6&pf_rd_t=15506&pf_rd_i=top&ref_=chttp_gnr_16', 'Mystery': 'https://www.imdb.com/search/title/?genres=Mystery&sort=user_rating,desc&title_type=feature&num_votes=25000,&pf_rd_m=A2FGELUUNOQJNL&pf_rd_p=5aab685f-35eb-40f3-95f7-c53f09d542c3&pf_rd_r=N97GEQS6R7J9EV7V770D&pf_rd_s=right-6&pf_rd_t=15506&pf_rd_i=top&ref_=chttp_gnr_16', 'Romance': 'https://www.imdb.com/search/title/?genres=Romance&sort=user_rating,desc&title_type=feature&num_votes=25000,&pf_rd_m=A2FGELUUNOQJNL&pf_rd_p=5aab685f-35eb-40f3-95f7-c53f09d542c3&pf_rd_r=N97GEQS6R7J9EV7V770D&pf_rd_s=right-6&pf_rd_t=15506&pf_rd_i=top&ref_=chttp_gnr_16', 'Sci-Fi': 'https://www.imdb.com/search/title/?genres=Sci-Fi&sort=user_rating,desc&title_type=feature&num_votes=25000,&pf_rd_m=A2FGELUUNOQJNL&pf_rd_p=5aab685f-35eb-40f3-95f7-c53f09d542c3&pf_rd_r=N97GEQS6R7J9EV7V770D&pf_rd_s=right-6&pf_rd_t=15506&pf_rd_i=top&ref_=chttp_gnr_16', 'Sport': 'https://www.imdb.com/search/title/?genres=Sport&sort=user_rating,desc&title_type=feature&num_votes=25000,&pf_rd_m=A2FGELUUNOQJNL&pf_rd_p=5aab685f-35eb-40f3-95f7-c53f09d542c3&pf_rd_r=N97GEQS6R7J9EV7V770D&pf_rd_s=right-6&pf_rd_t=15506&pf_rd_i=top&ref_=chttp_gnr_16', 'Thriller': 'https://www.imdb.com/search/title/?genres=Thriller&sort=user_rating,desc&title_type=feature&num_votes=25000,&pf_rd_m=A2FGELUUNOQJNL&pf_rd_p=5aab685f-35eb-40f3-95f7-c53f09d542c3&pf_rd_r=N97GEQS6R7J9EV7V770D&pf_rd_s=right-6&pf_rd_t=15506&pf_rd_i=top&ref_=chttp_gnr_16', 'War': 'https://www.imdb.com/search/title/?genres=War&sort=user_rating,desc&title_type=feature&num_votes=25000,&pf_rd_m=A2FGELUUNOQJNL&pf_rd_p=5aab685f-35eb-40f3-95f7-c53f09d542c3&pf_rd_r=N97GEQS6R7J9EV7V770D&pf_rd_s=right-6&pf_rd_t=15506&pf_rd_i=top&ref_=chttp_gnr_16', 'Western': 'https://www.imdb.com/search/title/?genres=Western&sort=user_rating,desc&title_type=feature&num_votes=25000,&pf_rd_m=A2FGELUUNOQJNL&pf_rd_p=5aab685f-35eb-40f3-95f7-c53f09d542c3&pf_rd_r=N97GEQS6R7J9EV7V770D&pf_rd_s=right-6&pf_rd_t=15506&pf_rd_i=top&ref_=chttp_gnr_16'}\n"
     ]
    }
   ],
   "source": [
    "genres = [\n",
    "    \n",
    "    \"Adventure\",\n",
    "    \"Animation\",\n",
    "    \"Biography\",\n",
    "    \"Comedy\",\n",
    "    \"Crime\",\n",
    "    \"Drama\",\n",
    "    \"Family\",\n",
    "    \"Fantasy\",\n",
    "    \"Film-Noir\",\n",
    "    \"History\",\n",
    "    \"Horror\",\n",
    "    \"Music\",\n",
    "    \"Musical\",\n",
    "    \"Mystery\",\n",
    "    \"Romance\",\n",
    "    \"Sci-Fi\",\n",
    "    \"Sport\",\n",
    "    \"Thriller\",\n",
    "    \"War\",\n",
    "    \"Western\"\n",
    "]\n",
    "\n",
    "url_dict = {}\n",
    "\n",
    "for genre in genres:\n",
    "    url = \"https://www.imdb.com/search/title/?genres={}&sort=user_rating,desc&title_type=feature&num_votes=25000,&pf_rd_m=A2FGELUUNOQJNL&pf_rd_p=5aab685f-35eb-40f3-95f7-c53f09d542c3&pf_rd_r=N97GEQS6R7J9EV7V770D&pf_rd_s=right-6&pf_rd_t=15506&pf_rd_i=top&ref_=chttp_gnr_16\"\n",
    "    formated_url = url.format(genre)\n",
    "    url_dict[genre] = formated_url\n",
    "    \n",
    "print(url_dict)"
   ]
  },
  {
   "cell_type": "markdown",
   "id": "87f4628d",
   "metadata": {},
   "source": [
    "#### Using Beautiful Soup and requests, parse the website with the URL containing movies of various genres."
   ]
  },
  {
   "cell_type": "code",
   "execution_count": 3,
   "id": "0284f927",
   "metadata": {},
   "outputs": [
    {
     "name": "stdout",
     "output_type": "stream",
     "text": [
      "{'title': '1.\\nThe Lord of the Rings: The Return of the King\\n(2003)', 'year': '(2003)', 'certificate': 'U', 'time': '201 min', 'genre': 'Action, Adventure, Drama', 'rating': '9.0', 'metascore': '94        \\n        Metascore', 'simple_desc': \"Gandalf and Aragorn lead the World of Men against Sauron's army to draw his gaze from Frodo and Sam as they approach Mount Doom with the One Ring.\", 'votes': 'Votes:\\n1,903,834\\n| Gross:\\n$377.85M'}\n",
      "{'title': '2.\\nSpider-Man: Across the Spider-Verse\\n(2023)', 'year': '(2023)', 'certificate': 'U', 'time': '140 min', 'genre': 'Animation, Action, Adventure', 'rating': '8.9', 'metascore': '86        \\n        Metascore', 'simple_desc': 'Miles Morales catapults across the Multiverse, where he encounters a team of Spider-People charged with protecting its very existence. When the heroes clash on how to handle a new threat, Miles must redefine what it means to be a hero.', 'votes': 'Votes:\\n197,314'}\n",
      "{'title': '3.\\nInception\\n(2010)', 'year': '(2010)', 'certificate': 'UA', 'time': '148 min', 'genre': 'Action, Adventure, Sci-Fi', 'rating': '8.8', 'metascore': '74        \\n        Metascore', 'simple_desc': 'A thief who steals corporate secrets through the use of dream-sharing technology is given the inverse task of planting an idea into the mind of a C.E.O., but his tragic past may doom the project and his team to disaster.', 'votes': 'Votes:\\n2,444,040\\n| Gross:\\n$292.58M'}\n",
      "{'title': '4.\\nThe Lord of the Rings: The Fellowship of the Ring\\n(2001)', 'year': '(2001)', 'certificate': 'U', 'time': '178 min', 'genre': 'Action, Adventure, Drama', 'rating': '8.8', 'metascore': '92        \\n        Metascore', 'simple_desc': 'A meek Hobbit from the Shire and eight companions set out on a journey to destroy the powerful One Ring and save Middle-earth from the Dark Lord Sauron.', 'votes': 'Votes:\\n1,932,113\\n| Gross:\\n$315.54M'}\n",
      "{'title': '5.\\nIl buono, il brutto, il cattivo\\n(1966)', 'year': '(1966)', 'certificate': 'A', 'time': '161 min', 'genre': 'Adventure, Western', 'rating': '8.8', 'metascore': '90        \\n        Metascore', 'simple_desc': 'A bounty hunting scam joins two men in an uneasy alliance against a third in a race to find a fortune in gold buried in a remote cemetery.', 'votes': 'Votes:\\n784,155\\n| Gross:\\n$6.10M'}\n",
      "{'title': '6.\\nThe Lord of the Rings: The Two Towers\\n(2002)', 'year': '(2002)', 'certificate': 'UA', 'time': '179 min', 'genre': 'Action, Adventure, Drama', 'rating': '8.8', 'metascore': '87        \\n        Metascore', 'simple_desc': \"While Frodo and Sam edge closer to Mordor with the help of the shifty Gollum, the divided fellowship makes a stand against Sauron's new ally, Saruman, and his hordes of Isengard.\", 'votes': 'Votes:\\n1,718,007\\n| Gross:\\n$342.55M'}\n",
      "{'title': '8.\\nInterstellar\\n(2014)', 'year': '(2014)', 'certificate': 'UA', 'time': '169 min', 'genre': 'Adventure, Drama, Sci-Fi', 'rating': '8.7', 'metascore': '74        \\n        Metascore', 'simple_desc': 'When Earth becomes uninhabitable in the future, a farmer and ex-NASA pilot, Joseph Cooper, is tasked to pilot a spacecraft, along with a team of researchers, to find a new planet for humans.', 'votes': 'Votes:\\n1,955,084\\n| Gross:\\n$188.02M'}\n",
      "{'title': '9.\\nStar Wars: Episode V - The Empire Strikes Back\\n(1980)', 'year': '(1980)', 'certificate': 'UA', 'time': '124 min', 'genre': 'Action, Adventure, Fantasy', 'rating': '8.7', 'metascore': '82        \\n        Metascore', 'simple_desc': 'After the Rebels are overpowered by the Empire, Luke Skywalker begins his Jedi training with Yoda, while his friends are pursued across the galaxy by Darth Vader and bounty hunter Boba Fett.', 'votes': 'Votes:\\n1,333,108\\n| Gross:\\n$290.48M'}\n",
      "{'title': '10.\\nStar Wars\\n(1977)', 'year': '(1977)', 'certificate': 'U', 'time': '121 min', 'genre': 'Action, Adventure, Fantasy', 'rating': '8.6', 'metascore': '90        \\n        Metascore', 'simple_desc': \"Luke Skywalker joins forces with a Jedi Knight, a cocky pilot, a Wookiee and two droids to save the galaxy from the Empire's world-destroying battle station, while also attempting to rescue Princess Leia from the mysterious Darth Vader.\", 'votes': 'Votes:\\n1,405,197\\n| Gross:\\n$322.74M'}\n",
      "{'title': '11.\\nSen to Chihiro no kamikakushi\\n(2001)', 'year': '(2001)', 'certificate': 'U', 'time': '125 min', 'genre': 'Animation, Adventure, Family', 'rating': '8.6', 'metascore': '96        \\n        Metascore', 'simple_desc': \"During her family's move to the suburbs, a sullen 10-year-old girl wanders into a world ruled by gods, witches and spirits, a world where humans are changed into beasts.\", 'votes': 'Votes:\\n801,262\\n| Gross:\\n$10.06M'}\n",
      "{'title': '12.\\nBack to the Future\\n(1985)', 'year': '(1985)', 'certificate': 'U', 'time': '116 min', 'genre': 'Adventure, Comedy, Sci-Fi', 'rating': '8.5', 'metascore': '87        \\n        Metascore', 'simple_desc': 'Marty McFly, a 17-year-old high school student, is accidentally sent 30 years into the past in a time-traveling DeLorean invented by his close friend, the maverick scientist Doc Brown.', 'votes': 'Votes:\\n1,253,272\\n| Gross:\\n$210.61M'}\n",
      "{'title': '13.\\nGladiator\\n(2000)', 'year': '(2000)', 'certificate': 'UA', 'time': '155 min', 'genre': 'Action, Adventure, Drama', 'rating': '8.5', 'metascore': '67        \\n        Metascore', 'simple_desc': 'A former Roman General sets out to exact vengeance against the corrupt emperor who murdered his family and sent him into slavery.', 'votes': 'Votes:\\n1,550,308\\n| Gross:\\n$187.71M'}\n",
      "{'title': '14.\\nThe Lion King\\n(1994)', 'year': '(1994)', 'certificate': 'U', 'time': '88 min', 'genre': 'Animation, Adventure, Drama', 'rating': '8.5', 'metascore': '88        \\n        Metascore', 'simple_desc': 'Lion prince Simba and his father are targeted by his bitter uncle, who wants to ascend the throne himself.', 'votes': 'Votes:\\n1,097,052\\n| Gross:\\n$422.78M'}\n",
      "{'title': '15.\\nSpider-Man: Into the Spider-Verse\\n(2018)', 'year': '(2018)', 'certificate': 'U', 'time': '117 min', 'genre': 'Animation, Action, Adventure', 'rating': '8.4', 'metascore': '87        \\n        Metascore', 'simple_desc': 'Teen Miles Morales becomes the Spider-Man of his universe and must join with five spider-powered individuals from other dimensions to stop a threat for all realities.', 'votes': 'Votes:\\n615,070\\n| Gross:\\n$190.24M'}\n",
      "{'title': '16.\\nRaiders of the Lost Ark\\n(1981)', 'year': '(1981)', 'certificate': 'A', 'time': '115 min', 'genre': 'Action, Adventure', 'rating': '8.4', 'metascore': '85        \\n        Metascore', 'simple_desc': 'In 1936, archaeologist and adventurer Indiana Jones is hired by the U.S. government to find the Ark of the Covenant before the Nazis can obtain its awesome powers.', 'votes': 'Votes:\\n1,006,613\\n| Gross:\\n$248.16M'}\n",
      "{'title': '17.\\nAvengers: Endgame\\n(2019)', 'year': '(2019)', 'certificate': 'UA', 'time': '181 min', 'genre': 'Action, Adventure, Drama', 'rating': '8.4', 'metascore': '78        \\n        Metascore', 'simple_desc': \"After the devastating events of Avengers: Infinity War (2018), the universe is in ruins. With the help of remaining allies, the Avengers assemble once more in order to reverse Thanos' actions and restore balance to the universe.\", 'votes': 'Votes:\\n1,200,415\\n| Gross:\\n$858.37M'}\n",
      "{'title': '18.\\nAliens\\n(1986)', 'year': '(1986)', 'certificate': 'U', 'time': '137 min', 'genre': 'Action, Adventure, Sci-Fi', 'rating': '8.4', 'metascore': '84        \\n        Metascore', 'simple_desc': 'Decades after surviving the Nostromo incident, Ellen Ripley is sent out to re-establish contact with a terraforming colony but finds herself battling the Alien Queen and her offspring.', 'votes': 'Votes:\\n738,603\\n| Gross:\\n$85.16M'}\n",
      "{'title': '19.\\nAvengers: Infinity War\\n(2018)', 'year': '(2018)', 'certificate': 'UA', 'time': '149 min', 'genre': 'Action, Adventure, Sci-Fi', 'rating': '8.4', 'metascore': '68        \\n        Metascore', 'simple_desc': 'The Avengers and their allies must be willing to sacrifice all in an attempt to defeat the powerful Thanos before his blitz of devastation and ruin puts an end to the universe.', 'votes': 'Votes:\\n1,142,298\\n| Gross:\\n$678.82M'}\n",
      "{'title': '20.\\nCoco\\n(I) (2017)', 'year': '(I) (2017)', 'certificate': 'U', 'time': '105 min', 'genre': 'Animation, Adventure, Drama', 'rating': '8.4', 'metascore': '81        \\n        Metascore', 'simple_desc': \"Aspiring musician Miguel, confronted with his family's ancestral ban on music, enters the Land of the Dead to find his great-great-grandfather, a legendary singer.\", 'votes': 'Votes:\\n546,142\\n| Gross:\\n$209.73M'}\n",
      "{'title': '21.\\nWALL·E\\n(2008)', 'year': '(2008)', 'certificate': 'U', 'time': '98 min', 'genre': 'Animation, Adventure, Family', 'rating': '8.4', 'metascore': '95        \\n        Metascore', 'simple_desc': 'In the distant future, a small waste-collecting robot inadvertently embarks on a space journey that will ultimately decide the fate of mankind.', 'votes': 'Votes:\\n1,155,391\\n| Gross:\\n$223.81M'}\n",
      "{'title': '23.\\nInglourious Basterds\\n(2009)', 'year': '(2009)', 'certificate': 'A', 'time': '153 min', 'genre': 'Adventure, Drama, War', 'rating': '8.3', 'metascore': '69        \\n        Metascore', 'simple_desc': \"In Nazi-occupied France during World War II, a plan to assassinate Nazi leaders by a group of Jewish U.S. soldiers coincides with a theatre owner's vengeful plans for the same.\", 'votes': 'Votes:\\n1,510,045\\n| Gross:\\n$120.54M'}\n",
      "{'title': '24.\\n2001: A Space Odyssey\\n(1968)', 'year': '(1968)', 'certificate': 'U', 'time': '149 min', 'genre': 'Adventure, Sci-Fi', 'rating': '8.3', 'metascore': '84        \\n        Metascore', 'simple_desc': 'After uncovering a mysterious artifact buried beneath the Lunar surface, a spacecraft is sent to Jupiter to find its origins - a spacecraft manned by two men and the supercomputer H.A.L. 9000.', 'votes': 'Votes:\\n692,174\\n| Gross:\\n$56.95M'}\n",
      "{'title': '25.\\nToy Story\\n(1995)', 'year': '(1995)', 'certificate': 'U', 'time': '81 min', 'genre': 'Animation, Adventure, Comedy', 'rating': '8.3', 'metascore': '96        \\n        Metascore', 'simple_desc': \"A cowboy doll is profoundly threatened and jealous when a new spaceman action figure supplants him as top toy in a boy's bedroom.\", 'votes': 'Votes:\\n1,029,385\\n| Gross:\\n$191.80M'}\n",
      "{'title': '26.\\nUp\\n(2009)', 'year': '(2009)', 'certificate': 'U', 'time': '96 min', 'genre': 'Animation, Adventure, Comedy', 'rating': '8.3', 'metascore': '88        \\n        Metascore', 'simple_desc': '78-year-old Carl Fredricksen travels to Paradise Falls in his house equipped with balloons, inadvertently taking a young stowaway.', 'votes': 'Votes:\\n1,081,709\\n| Gross:\\n$293.00M'}\n",
      "{'title': '27.\\nLawrence of Arabia\\n(1962)', 'year': '(1962)', 'certificate': 'U', 'time': '218 min', 'genre': 'Adventure, Biography, Drama', 'rating': '8.3', 'metascore': '100        \\n        Metascore', 'simple_desc': 'The story of T.E. Lawrence, the English officer who successfully united and led the diverse, often warring, Arab tribes during World War I in order to fight the Turks.', 'votes': 'Votes:\\n303,761\\n| Gross:\\n$44.82M'}\n",
      "{'title': '28.\\nToy Story 3\\n(2010)', 'year': '(2010)', 'certificate': 'U', 'time': '103 min', 'genre': 'Animation, Adventure, Comedy', 'rating': '8.3', 'metascore': '92        \\n        Metascore', 'simple_desc': \"The toys are mistakenly delivered to a day-care center instead of the attic right before Andy leaves for college, and it's up to Woody to convince the other toys that they weren't abandoned and to return home.\", 'votes': 'Votes:\\n863,680\\n| Gross:\\n$415.00M'}\n",
      "{'title': '29.\\nStar Wars: Episode VI - Return of the Jedi\\n(1983)', 'year': '(1983)', 'certificate': 'U', 'time': '131 min', 'genre': 'Action, Adventure, Fantasy', 'rating': '8.3', 'metascore': '58        \\n        Metascore', 'simple_desc': 'After rescuing Han Solo from Jabba the Hutt, the Rebels attempt to destroy the second Death Star, while Luke struggles to help Darth Vader back from the dark side.', 'votes': 'Votes:\\n1,086,710\\n| Gross:\\n$309.13M'}\n",
      "{'title': '30.\\nMononoke-hime\\n(1997)', 'year': '(1997)', 'certificate': 'U', 'time': '134 min', 'genre': 'Animation, Action, Adventure', 'rating': '8.3', 'metascore': '76        \\n        Metascore', 'simple_desc': \"On a journey to find the cure for a Tatarigami's curse, Ashitaka finds himself in the middle of a war between the forest gods and Tatara, a mining colony. In this quest he also meets San, the Mononoke Hime.\", 'votes': 'Votes:\\n411,682\\n| Gross:\\n$2.38M'}\n",
      "{'title': '31.\\nNorth by Northwest\\n(1959)', 'year': '(1959)', 'certificate': 'U', 'time': '136 min', 'genre': 'Action, Adventure, Mystery', 'rating': '8.3', 'metascore': '98        \\n        Metascore', 'simple_desc': 'A New York City advertising executive goes on the run after being mistaken for a government agent by a group of foreign spies, and falls for a woman whose loyalties he begins to doubt.', 'votes': 'Votes:\\n336,967\\n| Gross:\\n$13.28M'}\n",
      "{'title': '33.\\nSpider-Man: No Way Home\\n(2021)', 'year': '(2021)', 'certificate': 'UA', 'time': '148 min', 'genre': 'Action, Adventure, Fantasy', 'rating': '8.2', 'metascore': '71        \\n        Metascore', 'simple_desc': \"With Spider-Man's identity now revealed, Peter asks Doctor Strange for help. When a spell goes wrong, dangerous foes from other worlds start to appear, forcing Peter to discover what it truly means to be Spider-Man.\", 'votes': 'Votes:\\n818,525\\n| Gross:\\n$804.75M'}\n",
      "{'title': '34.\\nIndiana Jones and the Last Crusade\\n(1989)', 'year': '(1989)', 'certificate': 'U', 'time': '127 min', 'genre': 'Action, Adventure', 'rating': '8.2', 'metascore': '65        \\n        Metascore', 'simple_desc': 'In 1938, after his father goes missing while pursuing the Holy Grail, Indiana Jones finds himself up against the Nazis again to stop them from obtaining its powers.', 'votes': 'Votes:\\n786,490\\n| Gross:\\n$197.17M'}\n",
      "{'title': '35.\\nJurassic Park\\n(1993)', 'year': '(1993)', 'certificate': 'UA', 'time': '127 min', 'genre': 'Action, Adventure, Sci-Fi', 'rating': '8.2', 'metascore': '68        \\n        Metascore', 'simple_desc': \"A pragmatic paleontologist touring an almost complete theme park on an island in Central America is tasked with protecting a couple of kids after a power failure causes the park's cloned dinosaurs to run loose.\", 'votes': 'Votes:\\n1,025,958\\n| Gross:\\n$402.45M'}\n",
      "{'title': '36.\\nHauru no ugoku shiro\\n(2004)', 'year': '(2004)', 'certificate': 'U', 'time': '119 min', 'genre': 'Animation, Adventure, Family', 'rating': '8.2', 'metascore': '82        \\n        Metascore', 'simple_desc': 'When an unconfident young woman is cursed with an old body by a spiteful witch, her only chance of breaking the spell lies with a self-indulgent yet insecure young wizard and his companions in his legged, walking castle.', 'votes': 'Votes:\\n418,852\\n| Gross:\\n$4.71M'}\n",
      "{'title': '37.\\nFinding Nemo\\n(2003)', 'year': '(2003)', 'certificate': 'U', 'time': '100 min', 'genre': 'Animation, Adventure, Comedy', 'rating': '8.2', 'metascore': '90        \\n        Metascore', 'simple_desc': 'After his son is captured in the Great Barrier Reef and taken to Sydney, a timid clownfish sets out on a journey to bring him home.', 'votes': 'Votes:\\n1,076,401\\n| Gross:\\n$380.84M'}\n",
      "{'title': '38.\\nMonty Python and the Holy Grail\\n(1975)', 'year': '(1975)', 'certificate': 'U', 'time': '91 min', 'genre': 'Adventure, Comedy, Fantasy', 'rating': '8.2', 'metascore': '91        \\n        Metascore', 'simple_desc': 'King Arthur and his Knights of the Round Table embark on a surreal, low-budget search for the Holy Grail, encountering many, very silly obstacles.', 'votes': 'Votes:\\n555,636\\n| Gross:\\n$1.23M'}\n",
      "{'title': '39.\\nThe Great Escape\\n(1963)', 'year': '(1963)', 'certificate': 'U', 'time': '172 min', 'genre': 'Adventure, Drama, History', 'rating': '8.2', 'metascore': '86        \\n        Metascore', 'simple_desc': 'Allied prisoners of war plan for several hundred of their number to escape from a German camp during World War II.', 'votes': 'Votes:\\n251,411\\n| Gross:\\n$12.10M'}\n",
      "{'title': '40.\\nKimetsu no Yaiba: Mugen Ressha-Hen\\n(2020)', 'year': '(2020)', 'certificate': 'UA', 'time': '117 min', 'genre': 'Animation, Action, Adventure', 'rating': '8.2', 'metascore': '72        \\n        Metascore', 'simple_desc': \"After his family was brutally murdered and his sister turned into a demon, Tanjiro Kamado's journey as a demon slayer began. Tanjiro and his comrades embark on a new mission aboard the Mugen Train, on track to despair.\", 'votes': 'Votes:\\n66,513\\n| Gross:\\n$47.70M'}\n",
      "{'title': '41.\\nKlaus\\n(2019)', 'year': '(2019)', 'certificate': '7', 'time': '96 min', 'genre': 'Animation, Adventure, Comedy', 'rating': '8.2', 'metascore': '65        \\n        Metascore', 'simple_desc': \"A simple act of kindness always sparks another, even in a frozen, faraway place. When Smeerensburg's new postman, Jesper, befriends toymaker Klaus, their gifts melt an age-old feud and deliver a sleigh full of holiday traditions.\", 'votes': 'Votes:\\n169,416'}\n",
      "{'title': '42.\\nLe salaire de la peur\\n(1953)', 'year': '(1953)', 'certificate': 'U', 'time': '131 min', 'genre': 'Adventure, Drama, Thriller', 'rating': '8.2', 'metascore': '85        \\n        Metascore', 'simple_desc': 'In a decrepit South American village, four men are hired to transport an urgent nitroglycerine shipment without the equipment that would make it safe.', 'votes': 'Votes:\\n63,814'}\n",
      "{'title': '45.\\nGuardians of the Galaxy Vol. 3\\n(2023)', 'year': '(2023)', 'certificate': 'UA', 'time': '150 min', 'genre': 'Action, Adventure, Comedy', 'rating': '8.1', 'metascore': '64        \\n        Metascore', 'simple_desc': 'Still reeling from the loss of Gamora, Peter Quill rallies his team to defend the universe and one of their own - a mission that could mean the end of the Guardians if not successful.', 'votes': 'Votes:\\n238,904'}\n",
      "{'title': '46.\\nJaws\\n(1975)', 'year': '(1975)', 'certificate': 'A', 'time': '124 min', 'genre': 'Adventure, Mystery, Thriller', 'rating': '8.1', 'metascore': '87        \\n        Metascore', 'simple_desc': \"When a killer shark unleashes chaos on a beach community off Cape Cod, it's up to a local sheriff, a marine biologist, and an old seafarer to hunt the beast down.\", 'votes': 'Votes:\\n633,350\\n| Gross:\\n$260.00M'}\n",
      "{'title': '47.\\nThe Grand Budapest Hotel\\n(2014)', 'year': '(2014)', 'certificate': 'UA', 'time': '99 min', 'genre': 'Adventure, Comedy, Crime', 'rating': '8.1', 'metascore': '88        \\n        Metascore', 'simple_desc': \"A writer encounters the owner of an aging high-class hotel, who tells him of his early years serving as a lobby boy in the hotel's glorious years under an exceptional concierge.\", 'votes': 'Votes:\\n850,075\\n| Gross:\\n$59.10M'}\n",
      "{'title': '48.\\nMad Max: Fury Road\\n(2015)', 'year': '(2015)', 'certificate': 'UA', 'time': '120 min', 'genre': 'Action, Adventure, Sci-Fi', 'rating': '8.1', 'metascore': '90        \\n        Metascore', 'simple_desc': 'In a post-apocalyptic wasteland, a woman rebels against a tyrannical ruler in search for her homeland with the aid of a group of female prisoners, a psychotic worshiper and a drifter named Max.', 'votes': 'Votes:\\n1,040,297\\n| Gross:\\n$154.06M'}\n",
      "{'title': '49.\\nPirates of the Caribbean: The Curse of the Black Pearl\\n(2003)', 'year': '(2003)', 'certificate': 'UA', 'time': '143 min', 'genre': 'Action, Adventure, Fantasy', 'rating': '8.1', 'metascore': '63        \\n        Metascore', 'simple_desc': 'Blacksmith Will Turner teams up with eccentric pirate \"Captain\" Jack Sparrow to save his love, the governor\\'s daughter, from Jack\\'s former pirate allies, who are now undead.', 'votes': 'Votes:\\n1,165,384\\n| Gross:\\n$305.41M'}\n",
      "{'title': '50.\\nStand by Me\\n(1986)', 'year': '(1986)', 'certificate': 'U', 'time': '89 min', 'genre': 'Adventure, Drama', 'rating': '8.1', 'metascore': '75        \\n        Metascore', 'simple_desc': 'After the death of one of his friends, a writer recounts a childhood journey with his friends to find the body of a missing boy.', 'votes': 'Votes:\\n422,072\\n| Gross:\\n$52.29M'}\n"
     ]
    }
   ],
   "source": [
    "url = \"https://www.imdb.com/search/title/?genres=Adventure&sort=user_rating,desc&title_type=feature&num_votes=25000,&pf_rd_m=A2FGELUUNOQJNL&pf_rd_p=5aab685f-35eb-40f3-95f7-c53f09d542c3&pf_rd_r=N97GEQS6R7J9EV7V770D&pf_rd_s=right-6&pf_rd_t=15506&pf_rd_i=top&ref_=chttp_gnr_16\"\n",
    "\n",
    "# Sending a request to the speciifed URL\n",
    "resp = requests.get(url, headers=HEADERS)\n",
    "\n",
    "# Converting the response to Beautiful Soup Object\n",
    "content = BeautifulSoup(resp.content, 'lxml')\n",
    "\n",
    "# Iterating throught the list of movies \n",
    "for movie in content.select('.lister-item-content'):\n",
    "        \n",
    "    try:\n",
    "        # Creating a python dictonary\n",
    "        data = {\n",
    "            \n",
    "            \"title\":movie.select('.lister-item-header')[0].get_text().strip(),\n",
    "            \"year\":movie.select('.lister-item-year')[0].get_text().strip(),\n",
    "            \"certificate\":movie.select('.certificate')[0].get_text().strip(),\n",
    "            \"time\":movie.select('.runtime')[0].get_text().strip(),\n",
    "            \"genre\":movie.select('.genre')[0].get_text().strip(),\n",
    "            \"rating\":movie.select('.ratings-imdb-rating')[0].get_text().strip(),\n",
    "            \"metascore\":movie.select('.ratings-metascore')[0].get_text().strip(),\n",
    "            \"simple_desc\":movie.select('.text-muted')[2].get_text().strip(),\n",
    "            \"votes\":movie.select('.sort-num_votes-visible')[0].get_text().strip()\n",
    "            \n",
    "                \n",
    "        }\n",
    "    except IndexError:\n",
    "        continue\n",
    "        \n",
    "    print(data)"
   ]
  },
  {
   "cell_type": "markdown",
   "id": "4d086c00",
   "metadata": {},
   "source": [
    "#### Extract information such as the title, genre, year of release, rating, certificate, Metascore, votes, and so on."
   ]
  },
  {
   "cell_type": "code",
   "execution_count": 4,
   "id": "15632f18",
   "metadata": {},
   "outputs": [],
   "source": [
    "import time\n",
    "\n",
    "def get_movies(url, interval, file_name):\n",
    "    \n",
    "    resp = requests.get(url, headers=HEADERS)\n",
    "    content = BeautifulSoup(resp.content, 'lxml')\n",
    "\n",
    "    movie_list = []\n",
    "\n",
    "    for movie in content.select('.lister-item-content'):\n",
    "        time.sleep(interval)\n",
    "        try:\n",
    "            data = {\n",
    "                \"title\":movie.select('.lister-item-header')[0].get_text().strip(),\n",
    "                \"year\":movie.select('.lister-item-year')[0].get_text().strip(),\n",
    "                \"certificate\":movie.select('.certificate')[0].get_text().strip(),\n",
    "                \"time\":movie.select('.runtime')[0].get_text().strip(),\n",
    "                \"genre\":movie.select('.genre')[0].get_text().strip(),\n",
    "                \"rating\":movie.select('.ratings-imdb-rating')[0].get_text().strip(),\n",
    "                \"metascore\":movie.select('.ratings-metascore')[0].get_text().strip(),\n",
    "                \"simple_desc\":movie.select('.text-muted')[2].get_text().strip(),\n",
    "                \"votes\":movie.select('.sort-num_votes-visible')[0].get_text().strip()\n",
    "            \n",
    "                \n",
    "            }\n",
    "        except IndexError:\n",
    "            continue\n",
    "    \n",
    "        movie_list.append(data)\n",
    "         \n",
    "        \n",
    "    dataframe = pd.DataFrame(movie_list)\n",
    "    dataframe.to_csv(file_name)\n",
    "\n",
    "url = \"https://www.imdb.com/search/title/?genres=Adventure&sort=user_rating,desc&title_type=feature&num_votes=25000,&pf_rd_m=A2FGELUUNOQJNL&pf_rd_p=5aab685f-35eb-40f3-95f7-c53f09d542c3&pf_rd_r=N97GEQS6R7J9EV7V770D&pf_rd_s=right-6&pf_rd_t=15506&pf_rd_i=top&ref_=chttp_gnr_16\"\n",
    "\n",
    "# Calling the function\n",
    "get_movies(url, 0, 'Adventure_movies.csv')"
   ]
  },
  {
   "cell_type": "markdown",
   "id": "1e6b5435",
   "metadata": {},
   "source": [
    "#### Convert all data into a pandas data frame and save as a CSV file."
   ]
  },
  {
   "cell_type": "code",
   "execution_count": null,
   "id": "7cfe18cb",
   "metadata": {},
   "outputs": [],
   "source": [
    "for genre, url in url_dict.items():\n",
    "    get_movies(url, 1, genre+'.csv')\n",
    "    print(\"Saved:\", genre+'.csv')"
   ]
  },
  {
   "cell_type": "code",
   "execution_count": null,
   "id": "f311b8e8",
   "metadata": {},
   "outputs": [],
   "source": []
  }
 ],
 "metadata": {
  "kernelspec": {
   "display_name": "Python 3 (ipykernel)",
   "language": "python",
   "name": "python3"
  },
  "language_info": {
   "codemirror_mode": {
    "name": "ipython",
    "version": 3
   },
   "file_extension": ".py",
   "mimetype": "text/x-python",
   "name": "python",
   "nbconvert_exporter": "python",
   "pygments_lexer": "ipython3",
   "version": "3.9.7"
  }
 },
 "nbformat": 4,
 "nbformat_minor": 5
}
